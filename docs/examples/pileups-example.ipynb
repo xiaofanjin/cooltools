{
 "cells": [
  {
   "cell_type": "markdown",
   "metadata": {
    "toc": "true"
   },
   "source": [
    "# Pileups\n",
    " <p>"
   ]
  },
  {
   "cell_type": "code",
   "execution_count": null,
   "metadata": {},
   "outputs": [],
   "source": [
    "# downloading Hi-C data: beware, it is 21Gb big!"
   ]
  },
  {
   "cell_type": "code",
   "execution_count": 1,
   "metadata": {
    "ExecuteTime": {
     "end_time": "2019-03-08T16:42:19.780310Z",
     "start_time": "2019-03-08T16:36:08.317323Z"
    }
   },
   "outputs": [],
   "source": [
    "%%bash\n",
    "mkdir -p /tmp/pileup-example/\n",
    "wget https://data.4dnucleome.org/files-processed/4DNFIB59T7NN/@@download/4DNFIB59T7NN.mcool -qO /tmp/pileup-example/HFFc6_DpnII.mcool\n",
    "wget https://www.encodeproject.org/files/ENCFF401MQL/@@download/ENCFF401MQL.bed.gz -qO /tmp/pileup-example/HFF_Myc_CTCF_encode.conservative_idr_peaks.bed.gz"
   ]
  },
  {
   "cell_type": "code",
   "execution_count": 77,
   "metadata": {
    "ExecuteTime": {
     "end_time": "2019-03-08T20:30:38.189593Z",
     "start_time": "2019-03-08T20:30:38.155202Z"
    }
   },
   "outputs": [],
   "source": [
    "import numpy as np\n",
    "\n",
    "import pandas as pd\n",
    "\n",
    "import matplotlib\n",
    "import matplotlib.gridspec\n",
    "import matplotlib.pyplot as plt\n",
    "\n",
    "%matplotlib inline\n",
    "\n",
    "plt.rcParams['pdf.fonttype'] = 'truetype'\n",
    "plt.rcParams['svg.fonttype'] = 'none' # No text as paths. Assume font installed.\n",
    "\n",
    "plt.rcParams['font.serif'] = ['Times New Roman']\n",
    "plt.rcParams['font.sans-serif'] = ['Arial']\n",
    "plt.rcParams['font.size'] = 14\n",
    "plt.rcParams['font.family'] = 'sans-serif'\n",
    "plt.rcParams['text.usetex'] = False\n",
    "\n",
    "%config Completer.use_jedi = False"
   ]
  },
  {
   "cell_type": "code",
   "execution_count": 2,
   "metadata": {
    "ExecuteTime": {
     "end_time": "2019-03-08T19:48:50.240844Z",
     "start_time": "2019-03-08T19:48:49.382059Z"
    }
   },
   "outputs": [],
   "source": [
    "import bioframe\n",
    "import cooler\n",
    "import cooltools\n",
    "import cooltools.expected"
   ]
  },
  {
   "cell_type": "code",
   "execution_count": 3,
   "metadata": {
    "ExecuteTime": {
     "end_time": "2019-03-08T19:48:50.950553Z",
     "start_time": "2019-03-08T19:48:50.242740Z"
    }
   },
   "outputs": [],
   "source": [
    "import bioframe\n",
    "\n",
    "chromsizes = bioframe.fetch_chromsizes('hg38')\n",
    "cens = bioframe.fetch_centromeres('hg38')\n",
    "cens.set_index('chrom', inplace=True)\n",
    "cens = cens.mid\n",
    "\n",
    "GOOD_CHROMS = list(chromsizes.index[:23])\n",
    "\n",
    "arms = [arm \n",
    "        for chrom in GOOD_CHROMS\n",
    "        for arm in ((chrom, 0, cens.get(chrom,0)), \n",
    "                    (chrom, cens.get(chrom,0), chromsizes.get(chrom,0)))\n",
    "]\n",
    "arms = pd.DataFrame(arms, columns=['chrom','start', 'end'])"
   ]
  },
  {
   "cell_type": "code",
   "execution_count": 64,
   "metadata": {
    "ExecuteTime": {
     "end_time": "2019-03-08T20:26:41.310321Z",
     "start_time": "2019-03-08T20:26:41.250975Z"
    }
   },
   "outputs": [],
   "source": [
    "BINSIZE = 2000\n",
    "clr=cooler.Cooler(f'/tmp/pileup-example/HFFc6_DpnII.mcool::/resolutions/{BINSIZE}')"
   ]
  },
  {
   "cell_type": "code",
   "execution_count": 6,
   "metadata": {
    "ExecuteTime": {
     "end_time": "2019-03-08T19:54:40.197503Z",
     "start_time": "2019-03-08T19:49:20.246430Z"
    }
   },
   "outputs": [],
   "source": [
    "import multiprocess\n",
    "\n",
    "with multiprocess.Pool(20) as pool:\n",
    "    expected = cooltools.expected.diagsum(\n",
    "        clr, \n",
    "        list(arms.itertuples(index=False,name=None)), \n",
    "        transforms={\n",
    "            'balanced': lambda p: p['count'] * p['weight1'] * p['weight2']\n",
    "        },\n",
    "    map=pool.map\n",
    "    )"
   ]
  },
  {
   "cell_type": "code",
   "execution_count": 30,
   "metadata": {
    "ExecuteTime": {
     "end_time": "2019-03-08T20:10:04.899097Z",
     "start_time": "2019-03-08T20:10:04.058689Z"
    }
   },
   "outputs": [
    {
     "name": "stderr",
     "output_type": "stream",
     "text": [
      "/home/golobor/miniconda3/lib/python3.7/site-packages/ipykernel_launcher.py:5: FutureWarning: Interpreting tuple 'by' as a list of keys, rather than a single key. Use 'by=[...]' instead of 'by=(...)'. In the future, a tuple will always mean a single key.\n",
      "  \"\"\"\n"
     ]
    }
   ],
   "source": [
    "expected_df = pd.concat([\n",
    "    exp.reset_index().assign(chrom=reg[0], start=reg[1], end=reg[2])\n",
    "    for reg, exp in expected.items()])\n",
    "\n",
    "expected_df = expected_df.groupby(('chrom','diag')).aggregate({\n",
    "    'n_valid':'sum',\n",
    "    'count.sum':'sum',\n",
    "    'balanced.sum':'sum'}).reset_index()\n",
    "\n",
    "expected_df['balanced.avg'] = expected_df['balanced.sum'] / expected_df['n_valid']"
   ]
  },
  {
   "cell_type": "code",
   "execution_count": 8,
   "metadata": {
    "ExecuteTime": {
     "end_time": "2019-03-08T19:57:22.957877Z",
     "start_time": "2019-03-08T19:57:19.569555Z"
    }
   },
   "outputs": [
    {
     "name": "stderr",
     "output_type": "stream",
     "text": [
      "/home/golobor/miniconda3/lib/python3.7/site-packages/pybedtools/bedtool.py:3439: FutureWarning: read_table is deprecated, use read_csv instead, passing sep='\\t'.\n",
      "  return pandas.read_table(self.fn, *args, **kwargs)\n"
     ]
    }
   ],
   "source": [
    "import pybedtools\n",
    "ctcf_peaks = pybedtools.BedTool('/tmp/pileup-example/HFF_Myc_CTCF_encode.conservative_idr_peaks.bed.gz').sort()\n",
    "ctcf_motifs = pybedtools.BedTool('./encode_motifs.hg38.ctcf_known1.liftover.bed.gz').sort()\n",
    "ctcf_motifs_w_peaks = ctcf_motifs.intersect(ctcf_peaks).to_dataframe()\n",
    "ctcf_motifs_w_peaks['mid'] = (ctcf_motifs_w_peaks.start + ctcf_motifs_w_peaks.end) / 2"
   ]
  },
  {
   "cell_type": "code",
   "execution_count": 9,
   "metadata": {
    "ExecuteTime": {
     "end_time": "2019-03-08T19:57:23.185073Z",
     "start_time": "2019-03-08T19:57:22.960768Z"
    }
   },
   "outputs": [],
   "source": [
    "import cooltools.snipping\n",
    "\n",
    "WINDOW_HALF_SIZE = 100000\n",
    "snipping_windows = cooltools.snipping.make_bin_aligned_windows(\n",
    "    BINSIZE,\n",
    "    ctcf_motifs_w_peaks.chrom.values,\n",
    "    ctcf_motifs_w_peaks.mid.values,\n",
    "    WINDOW_HALF_SIZE\n",
    ")\n",
    "\n",
    "snipping_windows = cooltools.snipping.assign_regions(\n",
    "    snipping_windows, \n",
    "    list(arms.itertuples(index=False,name=None)))"
   ]
  },
  {
   "cell_type": "code",
   "execution_count": 59,
   "metadata": {
    "ExecuteTime": {
     "end_time": "2019-03-08T20:23:50.678845Z",
     "start_time": "2019-03-08T20:23:09.642661Z"
    }
   },
   "outputs": [],
   "source": [
    "# ICCF_snipper = cooltools.snipping.CoolerSnipper(clr)\n",
    "\n",
    "# with multiprocess.Pool(20) as pool:\n",
    "#     ICCF_pile = cooltools.snipping.pileup(\n",
    "#             snipping_windows, \n",
    "#             ICCF_snipper.select, ICCF_snipper.snip,\n",
    "#             map=pool.map)"
   ]
  },
  {
   "cell_type": "code",
   "execution_count": 33,
   "metadata": {
    "ExecuteTime": {
     "end_time": "2019-03-08T20:15:16.324828Z",
     "start_time": "2019-03-08T20:14:04.877112Z"
    }
   },
   "outputs": [],
   "source": [
    "oe_snipper = cooltools.snipping.ObsExpSnipper(clr, expected_df)\n",
    "\n",
    "with multiprocess.Pool(20) as pool:\n",
    "    oe_pile = cooltools.snipping.pileup(\n",
    "            snipping_windows, \n",
    "            oe_snipper.select, oe_snipper.snip,\n",
    "            map=pool.map)"
   ]
  },
  {
   "cell_type": "code",
   "execution_count": 75,
   "metadata": {
    "ExecuteTime": {
     "end_time": "2019-03-08T20:29:40.832580Z",
     "start_time": "2019-03-08T20:29:38.274300Z"
    }
   },
   "outputs": [],
   "source": [
    "collapsed_pile_plus = np.nanmean(\n",
    "    oe_pile[:, :, ctcf_motifs_w_peaks.strand=='+'], axis=2\n",
    ")\n",
    "collapsed_pile_minus = np.nanmean(\n",
    "    oe_pile[:, :, ctcf_motifs_w_peaks.strand=='-'], axis=2\n",
    ")"
   ]
  },
  {
   "cell_type": "code",
   "execution_count": 78,
   "metadata": {
    "ExecuteTime": {
     "end_time": "2019-03-08T20:30:41.115095Z",
     "start_time": "2019-03-08T20:30:40.898884Z"
    }
   },
   "outputs": [
    {
     "data": {
      "text/plain": [
       "Text(0, 0.5, 'relative position, kbp')"
      ]
     },
     "execution_count": 78,
     "metadata": {},
     "output_type": "execute_result"
    },
    {
     "data": {
      "image/png": "[encoded data removed]",
      "text/plain": [
       "<Figure size 432x288 with 2 Axes>"
      ]
     },
     "metadata": {
      "needs_background": "light"
     },
     "output_type": "display_data"
    }
   ],
   "source": [
    "plt.imshow(\n",
    "    np.log2(collapsed_pile_plus), \n",
    "    vmax = 0.5, \n",
    "    vmin = -0.5,\n",
    "    cmap='coolwarm')\n",
    "plt.colorbar(label = 'log2 mean obs/exp')\n",
    "ticks_pixels = np.linspace(0, WINDOW_HALF_SIZE*2//BINSIZE,5)\n",
    "ticks_kbp = ((ticks-ticks[-1]/2)*BINSIZE//1000).astype(int)\n",
    "plt.xticks(ticks_pixels, ticks_kbp)\n",
    "plt.yticks(ticks_pixels, ticks_kbp)\n",
    "plt.xlabel('relative position, kbp')\n",
    "plt.ylabel('relative position, kbp')"
   ]
  }
 ],
 "metadata": {
  "kernelspec": {
   "display_name": "Python 3",
   "language": "python",
   "name": "python3"
  },
  "nav_menu": {},
  "toc": {
   "navigate_menu": true,
   "number_sections": true,
   "sideBar": true,
   "threshold": 6,
   "toc_cell": true,
   "toc_section_display": "block",
   "toc_window_display": true
  }
 },
 "nbformat": 4,
 "nbformat_minor": 2
}
